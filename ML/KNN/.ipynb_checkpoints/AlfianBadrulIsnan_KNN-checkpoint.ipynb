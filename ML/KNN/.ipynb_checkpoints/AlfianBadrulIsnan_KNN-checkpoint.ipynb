{
 "cells": [
  {
   "cell_type": "markdown",
   "id": "crazy-prototype",
   "metadata": {},
   "source": [
    "# K-Nearest Neightbor\n",
    "## Alfian Badrul Isnan - 1806148643"
   ]
  },
  {
   "cell_type": "markdown",
   "id": "dominant-mistake",
   "metadata": {},
   "source": [
    "KNN Merupakan sebuah algoritma kalisifikasi yang sederhana tetapi sangat bagus untuk digunakan pada Machine Learning. Pada percobaan kali ini kita akan menggunakan data Iris untuk melakukan training klasifikasi terhadap data tersebut kemudian melakukan test apakah dengan menggunakan KNN ini menghasilkan data yang valid atau tidak. Algoritma ini didasari oleh posisi terdekat kulit K terhadap test pada data klasifikasi. Nilai k ini sebaiknya di tentukan terlebih dahulu untuk mendapatkan hasil terbaik. Pada proses klasifikasinya, kalkulasi menggunakan algoritma KNN yang telah disediakan pada inbuilt function oleh sklearn"
   ]
  },
  {
   "cell_type": "markdown",
   "id": "thirty-aruba",
   "metadata": {},
   "source": [
    "Bagian dibawah ini merupakan sintaks dari persiapan data Iris dan library yang digunakan."
   ]
  },
  {
   "cell_type": "code",
   "execution_count": 2,
   "id": "behind-syntax",
   "metadata": {},
   "outputs": [],
   "source": [
    "import pandas as pd\n",
    "import numpy as np\n",
    "import math\n",
    "import operator\n",
    "from sklearn.model_selection import train_test_split\n",
    "from sklearn.neighbors import KNeighborsClassifier\n",
    "from sklearn.model_selection import cross_val_score\n",
    "from sklearn.metrics import accuracy_score\n",
    "from sklearn.metrics import classification_report\n",
    "from sklearn.metrics import recall_score , precision_score , roc_auc_score ,roc_curve\n",
    "from sklearn.metrics import confusion_matrix\n",
    "from sklearn.svm import SVC\n",
    "import matplotlib.pyplot as plt\n",
    "import seaborn as sns\n",
    "import warnings\n",
    "warnings.filterwarnings(\"ignore\")"
   ]
  },
  {
   "cell_type": "markdown",
   "id": "superb-october",
   "metadata": {},
   "source": [
    "Pada data iris, terdapat empat feature yang terbagi didalam tiga jenis bunga yang tersedia. feature tersebut diantaranya selap_length, sepal_width, petal_length, dan petal_width"
   ]
  },
  {
   "cell_type": "code",
   "execution_count": 5,
   "id": "respected-conversion",
   "metadata": {},
   "outputs": [],
   "source": [
    "train=pd.read_csv(r\"..\\..\\export\\train.csv\")\n",
    "test=pd.read_csv(r\"..\\..\\export\\test.csv\")"
   ]
  },
  {
   "cell_type": "code",
   "execution_count": 5,
   "id": "referenced-pencil",
   "metadata": {},
   "outputs": [
    {
     "data": {
      "text/html": [
       "<div>\n",
       "<style scoped>\n",
       "    .dataframe tbody tr th:only-of-type {\n",
       "        vertical-align: middle;\n",
       "    }\n",
       "\n",
       "    .dataframe tbody tr th {\n",
       "        vertical-align: top;\n",
       "    }\n",
       "\n",
       "    .dataframe thead th {\n",
       "        text-align: right;\n",
       "    }\n",
       "</style>\n",
       "<table border=\"1\" class=\"dataframe\">\n",
       "  <thead>\n",
       "    <tr style=\"text-align: right;\">\n",
       "      <th></th>\n",
       "      <th>sepal_length</th>\n",
       "      <th>sepal_width</th>\n",
       "      <th>petal_length</th>\n",
       "      <th>petal_width</th>\n",
       "      <th>type</th>\n",
       "    </tr>\n",
       "  </thead>\n",
       "  <tbody>\n",
       "    <tr>\n",
       "      <th>1</th>\n",
       "      <td>5.1</td>\n",
       "      <td>3.5</td>\n",
       "      <td>1.4</td>\n",
       "      <td>0.2</td>\n",
       "      <td>Iris-setosa</td>\n",
       "    </tr>\n",
       "    <tr>\n",
       "      <th>2</th>\n",
       "      <td>4.9</td>\n",
       "      <td>3.0</td>\n",
       "      <td>1.4</td>\n",
       "      <td>0.2</td>\n",
       "      <td>Iris-setosa</td>\n",
       "    </tr>\n",
       "    <tr>\n",
       "      <th>3</th>\n",
       "      <td>4.7</td>\n",
       "      <td>3.2</td>\n",
       "      <td>1.3</td>\n",
       "      <td>0.2</td>\n",
       "      <td>Iris-setosa</td>\n",
       "    </tr>\n",
       "    <tr>\n",
       "      <th>4</th>\n",
       "      <td>4.6</td>\n",
       "      <td>3.1</td>\n",
       "      <td>1.5</td>\n",
       "      <td>0.2</td>\n",
       "      <td>Iris-setosa</td>\n",
       "    </tr>\n",
       "    <tr>\n",
       "      <th>5</th>\n",
       "      <td>5.0</td>\n",
       "      <td>3.6</td>\n",
       "      <td>1.4</td>\n",
       "      <td>0.2</td>\n",
       "      <td>Iris-setosa</td>\n",
       "    </tr>\n",
       "  </tbody>\n",
       "</table>\n",
       "</div>"
      ],
      "text/plain": [
       "   sepal_length  sepal_width  petal_length  petal_width         type\n",
       "1           5.1          3.5           1.4          0.2  Iris-setosa\n",
       "2           4.9          3.0           1.4          0.2  Iris-setosa\n",
       "3           4.7          3.2           1.3          0.2  Iris-setosa\n",
       "4           4.6          3.1           1.5          0.2  Iris-setosa\n",
       "5           5.0          3.6           1.4          0.2  Iris-setosa"
      ]
     },
     "execution_count": 5,
     "metadata": {},
     "output_type": "execute_result"
    }
   ],
   "source": [
    "trai.head()"
   ]
  },
  {
   "cell_type": "code",
   "execution_count": 6,
   "id": "saving-cartridge",
   "metadata": {},
   "outputs": [
    {
     "data": {
      "text/html": [
       "<div>\n",
       "<style scoped>\n",
       "    .dataframe tbody tr th:only-of-type {\n",
       "        vertical-align: middle;\n",
       "    }\n",
       "\n",
       "    .dataframe tbody tr th {\n",
       "        vertical-align: top;\n",
       "    }\n",
       "\n",
       "    .dataframe thead th {\n",
       "        text-align: right;\n",
       "    }\n",
       "</style>\n",
       "<table border=\"1\" class=\"dataframe\">\n",
       "  <thead>\n",
       "    <tr style=\"text-align: right;\">\n",
       "      <th></th>\n",
       "      <th>sepal_length</th>\n",
       "      <th>sepal_width</th>\n",
       "      <th>petal_length</th>\n",
       "      <th>petal_width</th>\n",
       "    </tr>\n",
       "  </thead>\n",
       "  <tbody>\n",
       "    <tr>\n",
       "      <th>count</th>\n",
       "      <td>150.000000</td>\n",
       "      <td>150.000000</td>\n",
       "      <td>150.000000</td>\n",
       "      <td>150.000000</td>\n",
       "    </tr>\n",
       "    <tr>\n",
       "      <th>mean</th>\n",
       "      <td>5.843333</td>\n",
       "      <td>3.054000</td>\n",
       "      <td>3.758667</td>\n",
       "      <td>1.198667</td>\n",
       "    </tr>\n",
       "    <tr>\n",
       "      <th>std</th>\n",
       "      <td>0.828066</td>\n",
       "      <td>0.433594</td>\n",
       "      <td>1.764420</td>\n",
       "      <td>0.763161</td>\n",
       "    </tr>\n",
       "    <tr>\n",
       "      <th>min</th>\n",
       "      <td>4.300000</td>\n",
       "      <td>2.000000</td>\n",
       "      <td>1.000000</td>\n",
       "      <td>0.100000</td>\n",
       "    </tr>\n",
       "    <tr>\n",
       "      <th>25%</th>\n",
       "      <td>5.100000</td>\n",
       "      <td>2.800000</td>\n",
       "      <td>1.600000</td>\n",
       "      <td>0.300000</td>\n",
       "    </tr>\n",
       "    <tr>\n",
       "      <th>50%</th>\n",
       "      <td>5.800000</td>\n",
       "      <td>3.000000</td>\n",
       "      <td>4.350000</td>\n",
       "      <td>1.300000</td>\n",
       "    </tr>\n",
       "    <tr>\n",
       "      <th>75%</th>\n",
       "      <td>6.400000</td>\n",
       "      <td>3.300000</td>\n",
       "      <td>5.100000</td>\n",
       "      <td>1.800000</td>\n",
       "    </tr>\n",
       "    <tr>\n",
       "      <th>max</th>\n",
       "      <td>7.900000</td>\n",
       "      <td>4.400000</td>\n",
       "      <td>6.900000</td>\n",
       "      <td>2.500000</td>\n",
       "    </tr>\n",
       "  </tbody>\n",
       "</table>\n",
       "</div>"
      ],
      "text/plain": [
       "       sepal_length  sepal_width  petal_length  petal_width\n",
       "count    150.000000   150.000000    150.000000   150.000000\n",
       "mean       5.843333     3.054000      3.758667     1.198667\n",
       "std        0.828066     0.433594      1.764420     0.763161\n",
       "min        4.300000     2.000000      1.000000     0.100000\n",
       "25%        5.100000     2.800000      1.600000     0.300000\n",
       "50%        5.800000     3.000000      4.350000     1.300000\n",
       "75%        6.400000     3.300000      5.100000     1.800000\n",
       "max        7.900000     4.400000      6.900000     2.500000"
      ]
     },
     "execution_count": 6,
     "metadata": {},
     "output_type": "execute_result"
    }
   ],
   "source": [
    "iris.describe()"
   ]
  },
  {
   "cell_type": "markdown",
   "id": "mental-master",
   "metadata": {},
   "source": [
    "Pada uji coba yang akan dilaksanakan, data iris akan dibagi kedalam dua dataset yaitu untuk dataset training dan dataset testing. data set ini dibagi dengan rasio (training)7:3(testing) yang diambil dari setiap kelasnya"
   ]
  },
  {
   "cell_type": "code",
   "execution_count": 22,
   "id": "mental-newcastle",
   "metadata": {},
   "outputs": [
    {
     "name": "stdout",
     "output_type": "stream",
     "text": [
      "Total Data 150\n",
      "Total Kelas 3 : ['Iris-setosa' 'Iris-versicolor' 'Iris-virginica']\n"
     ]
    }
   ],
   "source": [
    "print(\"Total Data {0}\".format(iris.type.count()))\n",
    "print(\"Total Kelas {0} : {1}\".format((iris.type.unique()).size,iris.type.unique()))"
   ]
  },
  {
   "cell_type": "code",
   "execution_count": 23,
   "id": "indian-projector",
   "metadata": {},
   "outputs": [
    {
     "name": "stdout",
     "output_type": "stream",
     "text": [
      "     sepal_length  sepal_width  petal_length  petal_width\n",
      "1             5.1          3.5           1.4          0.2\n",
      "2             4.9          3.0           1.4          0.2\n",
      "3             4.7          3.2           1.3          0.2\n",
      "4             4.6          3.1           1.5          0.2\n",
      "5             5.0          3.6           1.4          0.2\n",
      "..            ...          ...           ...          ...\n",
      "131           7.4          2.8           6.1          1.9\n",
      "132           7.9          3.8           6.4          2.0\n",
      "133           6.4          2.8           5.6          2.2\n",
      "134           6.3          2.8           5.1          1.5\n",
      "135           6.1          2.6           5.6          1.4\n",
      "\n",
      "[105 rows x 4 columns]\n",
      "1         Iris-setosa\n",
      "2         Iris-setosa\n",
      "3         Iris-setosa\n",
      "4         Iris-setosa\n",
      "5         Iris-setosa\n",
      "            ...      \n",
      "131    Iris-virginica\n",
      "132    Iris-virginica\n",
      "133    Iris-virginica\n",
      "134    Iris-virginica\n",
      "135    Iris-virginica\n",
      "Name: type, Length: 105, dtype: object\n",
      "     sepal_length  sepal_width  petal_length  petal_width\n",
      "36            5.0          3.2           1.2          0.2\n",
      "37            5.5          3.5           1.3          0.2\n",
      "38            4.9          3.1           1.5          0.1\n",
      "39            4.4          3.0           1.3          0.2\n",
      "40            5.1          3.4           1.5          0.2\n",
      "41            5.0          3.5           1.3          0.3\n",
      "42            4.5          2.3           1.3          0.3\n",
      "43            4.4          3.2           1.3          0.2\n",
      "44            5.0          3.5           1.6          0.6\n",
      "45            5.1          3.8           1.9          0.4\n",
      "46            4.8          3.0           1.4          0.3\n",
      "47            5.1          3.8           1.6          0.2\n",
      "48            4.6          3.2           1.4          0.2\n",
      "49            5.3          3.7           1.5          0.2\n",
      "50            5.0          3.3           1.4          0.2\n",
      "86            6.0          3.4           4.5          1.6\n",
      "87            6.7          3.1           4.7          1.5\n",
      "88            6.3          2.3           4.4          1.3\n",
      "89            5.6          3.0           4.1          1.3\n",
      "90            5.5          2.5           4.0          1.3\n",
      "91            5.5          2.6           4.4          1.2\n",
      "92            6.1          3.0           4.6          1.4\n",
      "93            5.8          2.6           4.0          1.2\n",
      "94            5.0          2.3           3.3          1.0\n",
      "95            5.6          2.7           4.2          1.3\n",
      "96            5.7          3.0           4.2          1.2\n",
      "97            5.7          2.9           4.2          1.3\n",
      "98            6.2          2.9           4.3          1.3\n",
      "99            5.1          2.5           3.0          1.1\n",
      "100           5.7          2.8           4.1          1.3\n",
      "136           7.7          3.0           6.1          2.3\n",
      "137           6.3          3.4           5.6          2.4\n",
      "138           6.4          3.1           5.5          1.8\n",
      "139           6.0          3.0           4.8          1.8\n",
      "140           6.9          3.1           5.4          2.1\n",
      "141           6.7          3.1           5.6          2.4\n",
      "142           6.9          3.1           5.1          2.3\n",
      "143           5.8          2.7           5.1          1.9\n",
      "144           6.8          3.2           5.9          2.3\n",
      "145           6.7          3.3           5.7          2.5\n",
      "146           6.7          3.0           5.2          2.3\n",
      "147           6.3          2.5           5.0          1.9\n",
      "148           6.5          3.0           5.2          2.0\n",
      "149           6.2          3.4           5.4          2.3\n",
      "150           5.9          3.0           5.1          1.8\n",
      "36         Iris-setosa\n",
      "37         Iris-setosa\n",
      "38         Iris-setosa\n",
      "39         Iris-setosa\n",
      "40         Iris-setosa\n",
      "41         Iris-setosa\n",
      "42         Iris-setosa\n",
      "43         Iris-setosa\n",
      "44         Iris-setosa\n",
      "45         Iris-setosa\n",
      "46         Iris-setosa\n",
      "47         Iris-setosa\n",
      "48         Iris-setosa\n",
      "49         Iris-setosa\n",
      "50         Iris-setosa\n",
      "86     Iris-versicolor\n",
      "87     Iris-versicolor\n",
      "88     Iris-versicolor\n",
      "89     Iris-versicolor\n",
      "90     Iris-versicolor\n",
      "91     Iris-versicolor\n",
      "92     Iris-versicolor\n",
      "93     Iris-versicolor\n",
      "94     Iris-versicolor\n",
      "95     Iris-versicolor\n",
      "96     Iris-versicolor\n",
      "97     Iris-versicolor\n",
      "98     Iris-versicolor\n",
      "99     Iris-versicolor\n",
      "100    Iris-versicolor\n",
      "136     Iris-virginica\n",
      "137     Iris-virginica\n",
      "138     Iris-virginica\n",
      "139     Iris-virginica\n",
      "140     Iris-virginica\n",
      "141     Iris-virginica\n",
      "142     Iris-virginica\n",
      "143     Iris-virginica\n",
      "144     Iris-virginica\n",
      "145     Iris-virginica\n",
      "146     Iris-virginica\n",
      "147     Iris-virginica\n",
      "148     Iris-virginica\n",
      "149     Iris-virginica\n",
      "150     Iris-virginica\n",
      "Name: type, dtype: object\n"
     ]
    }
   ],
   "source": [
    "train = iris[0:0]\n",
    "test = iris[0:0]\n",
    "for types in iris.type.unique():\n",
    "    train = pd.concat([train,(iris[iris.type==types])[:35]])\n",
    "    test = pd.concat([test,(iris[iris.type==types])[-15:]])\n",
    "x_train = train.iloc[0:,:4]\n",
    "y_train = train.iloc[0:,4]\n",
    "x_test = test.iloc[0:,:4]\n",
    "y_test = test.iloc[0:,4]\n",
    "print(x_train);\n",
    "print(y_train);\n",
    "print(x_test);\n",
    "print(y_test);"
   ]
  },
  {
   "cell_type": "markdown",
   "id": "acquired-pulse",
   "metadata": {},
   "source": [
    "dibawah ini adalah fungsi untuk mendapatkan parameter nilai K yang optimal, uji coba ini dilakukan agar nilai akurasi mendapatkan hasil terbaik dengan error yang kecil sehingga prediksi menghasilkan hasil yang bagus. Pencarian nilai K ini adalah dengan melakukan iterasi sebanyak list neighbor kemudian dicari error klaisifikasinya yang akan dihitung dengan mendapatkan nilai error terkecil untuk dijadikan acuan nilai k optimal."
   ]
  },
  {
   "cell_type": "code",
   "execution_count": 24,
   "id": "saved-memorial",
   "metadata": {},
   "outputs": [],
   "source": [
    "def optimal_k():\n",
    "    cv_scores = []\n",
    "    neighbors = list(np.arange(3,50,2))\n",
    "    for n in neighbors:\n",
    "        knn = KNeighborsClassifier(n_neighbors = n,algorithm = 'brute')\n",
    "        cross_val = cross_val_score(knn,x_train,y_train,cv = 5 , scoring = 'accuracy')\n",
    "        cv_scores.append(cross_val.mean())\n",
    "    error = [1-x for x in cv_scores]\n",
    "    optimal_n = neighbors[ error.index(min(error)) ]\n",
    "    print(\"Nilai K-Optimal adalah {0}\".format(optimal_n))\n",
    "    return optimal_n"
   ]
  },
  {
   "cell_type": "markdown",
   "id": "according-measure",
   "metadata": {},
   "source": [
    "dibawah ini merupakan definisi pembentukan klasifikasi menggunakan KNN dengan algoritma brute. Karena menggunakan library, klasifikasi ini cukup dengan memanggil fungsi KNeighborsClassifier yang disediakan oleh modul sklearn. dari hasil classifier ini kita juga akan mendapatkan nilai akurasi tersebut pada K yang ditentukan, kemudian diperlihatkan juga laporan klasifikasi dan Heat Map yang terbentuk dari proses klasifikasi dengan nilai k tersebut."
   ]
  },
  {
   "cell_type": "code",
   "execution_count": 26,
   "id": "selected-estonia",
   "metadata": {},
   "outputs": [],
   "source": [
    "def classifier(k_value, show):\n",
    "    knn_optimal = KNeighborsClassifier(n_neighbors = k_value, algorithm = 'brute')\n",
    "    cross_val = cross_val_score(knn_optimal,x_train,y_train,cv = 5 , scoring = 'accuracy')\n",
    "    err = (cross_val.mean())*100\n",
    "    knn_optimal.fit(x_train,y_train)\n",
    "    pred = knn_optimal.predict(x_test)\n",
    "    acc = accuracy_score(y_test,pred)*100\n",
    "    if(show):\n",
    "        print(\"Nilai akurasi untuk K = {0} adalah {1}\".format(k_value,acc))\n",
    "        print(\"classification_report\")\n",
    "        print(classification_report(y_test,pred))\n",
    "        cm = confusion_matrix(y_test, pred)\n",
    "        cm_df = pd.DataFrame(cm,\n",
    "                             index = ['setosa','versicolor','virginica'], \n",
    "                             columns = ['setosa','versicolor','virginica'])\n",
    "        sns.heatmap(cm_df, annot=True)\n",
    "        plt.title('Nilai akurasi {0:.3f}'.format(accuracy_score(y_test, pred)))\n",
    "        plt.ylabel('Aktual')\n",
    "        plt.xlabel('Prediksi')\n",
    "        plt.show()\n",
    "    return acc,err"
   ]
  },
  {
   "cell_type": "markdown",
   "id": "muslim-cooper",
   "metadata": {},
   "source": [
    "proses dibawah ini adalah untuk mendapatkan return berupa Akurasi dan Error yang dibentuk oleh KNN dengan variasi nilai K dari 1 sampai 85 terbentuk dalam array data."
   ]
  },
  {
   "cell_type": "code",
   "execution_count": 27,
   "id": "occasional-wilson",
   "metadata": {},
   "outputs": [],
   "source": [
    "data = []\n",
    "for k in range(1,85):\n",
    "    data.append(classifier(k, False))"
   ]
  },
  {
   "cell_type": "code",
   "execution_count": 28,
   "id": "nutritional-evidence",
   "metadata": {},
   "outputs": [
    {
     "data": {
      "text/plain": [
       "[(100.0, 91.42857142857143),\n",
       " (97.77777777777777, 92.38095238095238),\n",
       " (100.0, 92.38095238095238),\n",
       " (95.55555555555556, 94.28571428571428),\n",
       " (97.77777777777777, 94.28571428571428),\n",
       " (97.77777777777777, 93.33333333333333),\n",
       " (97.77777777777777, 93.33333333333333),\n",
       " (97.77777777777777, 93.33333333333333),\n",
       " (97.77777777777777, 92.38095238095238),\n",
       " (97.77777777777777, 93.33333333333333)]"
      ]
     },
     "execution_count": 28,
     "metadata": {},
     "output_type": "execute_result"
    }
   ],
   "source": [
    "data[:10]"
   ]
  },
  {
   "cell_type": "markdown",
   "id": "according-hughes",
   "metadata": {},
   "source": [
    "Pada diagram dibawah ini terlihat bahwa semakin nilai K bernilai tinggi maka proses klasifikasi akan bernilai error, dan nilai prediksi juga turun. dari data tersebut kita akan dapat mencari tahu nilai K terbaik untuk membentuk klasifikasi KNN ini."
   ]
  },
  {
   "cell_type": "code",
   "execution_count": 64,
   "id": "unsigned-character",
   "metadata": {},
   "outputs": [
    {
     "data": {
      "image/png": "[encoded data removed]",
      "text/plain": [
       "<Figure size 432x288 with 1 Axes>"
      ]
     },
     "metadata": {
      "needs_background": "light"
     },
     "output_type": "display_data"
    }
   ],
   "source": [
    "plt.plot(data)\n",
    "plt.xlabel(\"Nilai K\")\n",
    "plt.legend([\"Akurasi\",\"Error\"])\n",
    "plt.show()"
   ]
  },
  {
   "cell_type": "markdown",
   "id": "appointed-concern",
   "metadata": {},
   "source": [
    "dibawah ini adalah proses klasifikasi dengan menggunakan variasi nilai K, dengan menggunakan fungsi pencari nilai k optimal, maka didapatkan nilai K optimalnya adalah 17 sehingga saat KNN dengan nilai K tersebut menghasilkan akurasi sekitar 97.8% dan hasil prediksinya ditunjukkan juga pada heat map.\n",
    "Untuk percobaan kedua dan ketiga adalah dengan melakukan variasi terhadap nilai K dengan nilai 60 dan 80 dan menghasilkan penurunan akurasi dan hasil prediksinya juga dapat dilihat pada heatmap."
   ]
  },
  {
   "cell_type": "code",
   "execution_count": 31,
   "id": "handmade-settlement",
   "metadata": {},
   "outputs": [
    {
     "name": "stdout",
     "output_type": "stream",
     "text": [
      "Nilai K-Optimal adalah 17\n",
      "Nilai akurasi untuk K = 17 adalah 97.77777777777777\n",
      "classification_report\n",
      "                 precision    recall  f1-score   support\n",
      "\n",
      "    Iris-setosa       1.00      1.00      1.00        15\n",
      "Iris-versicolor       0.94      1.00      0.97        15\n",
      " Iris-virginica       1.00      0.93      0.97        15\n",
      "\n",
      "       accuracy                           0.98        45\n",
      "      macro avg       0.98      0.98      0.98        45\n",
      "   weighted avg       0.98      0.98      0.98        45\n",
      "\n"
     ]
    },
    {
     "data": {
      "image/png": "[encoded data removed]",
      "text/plain": [
       "<Figure size 432x288 with 2 Axes>"
      ]
     },
     "metadata": {
      "needs_background": "light"
     },
     "output_type": "display_data"
    },
    {
     "name": "stdout",
     "output_type": "stream",
     "text": [
      "Nilai akurasi untuk K = 60 adalah 88.88888888888889\n",
      "classification_report\n",
      "                 precision    recall  f1-score   support\n",
      "\n",
      "    Iris-setosa       0.94      1.00      0.97        15\n",
      "Iris-versicolor       0.78      0.93      0.85        15\n",
      " Iris-virginica       1.00      0.73      0.85        15\n",
      "\n",
      "       accuracy                           0.89        45\n",
      "      macro avg       0.91      0.89      0.89        45\n",
      "   weighted avg       0.91      0.89      0.89        45\n",
      "\n"
     ]
    },
    {
     "data": {
      "image/png": "[encoded data removed]",
      "text/plain": [
       "<Figure size 432x288 with 2 Axes>"
      ]
     },
     "metadata": {
      "needs_background": "light"
     },
     "output_type": "display_data"
    },
    {
     "name": "stdout",
     "output_type": "stream",
     "text": [
      "Nilai akurasi untuk K = 80 adalah 64.44444444444444\n",
      "classification_report\n",
      "                 precision    recall  f1-score   support\n",
      "\n",
      "    Iris-setosa       0.94      1.00      0.97        15\n",
      "Iris-versicolor       0.48      0.93      0.64        15\n",
      " Iris-virginica       0.00      0.00      0.00        15\n",
      "\n",
      "       accuracy                           0.64        45\n",
      "      macro avg       0.47      0.64      0.53        45\n",
      "   weighted avg       0.47      0.64      0.53        45\n",
      "\n"
     ]
    },
    {
     "data": {
      "image/png": "[encoded data removed]",
      "text/plain": [
       "<Figure size 432x288 with 2 Axes>"
      ]
     },
     "metadata": {
      "needs_background": "light"
     },
     "output_type": "display_data"
    },
    {
     "data": {
      "text/plain": [
       "(64.44444444444444, 59.04761904761904)"
      ]
     },
     "execution_count": 31,
     "metadata": {},
     "output_type": "execute_result"
    }
   ],
   "source": [
    "classifier(optimal_k(),True)\n",
    "classifier(60, True)\n",
    "classifier(80, True)"
   ]
  },
  {
   "cell_type": "markdown",
   "id": "attempted-steering",
   "metadata": {},
   "source": [
    "KNN cukup mudah diaplikasikan untuk membentuk klasifikasi sebuah data dan saat pembentukan data ini harus memerhatikan nilai K yang cocok untuk membentuk hasil data terbaik.\n",
    "\n",
    "Referensi : https://medium.com/@avulurivenkatasaireddy/k-nearest-neighbors-and-implementation-on-iris-data-set-f5817dd33711"
   ]
  }
 ],
 "metadata": {
  "kernelspec": {
   "display_name": "Python 3",
   "language": "python",
   "name": "python3"
  },
  "language_info": {
   "codemirror_mode": {
    "name": "ipython",
    "version": 3
   },
   "file_extension": ".py",
   "mimetype": "text/x-python",
   "name": "python",
   "nbconvert_exporter": "python",
   "pygments_lexer": "ipython3",
   "version": "3.9.2"
  }
 },
 "nbformat": 4,
 "nbformat_minor": 5
}
